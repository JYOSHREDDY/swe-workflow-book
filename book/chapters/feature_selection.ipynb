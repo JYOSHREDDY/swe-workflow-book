{
 "cells": [
  {
   "cell_type": "markdown",
   "metadata": {},
   "source": [
    "# 4.2 Feature Selection for SWE Prediction Models"
   ]
  },
  {
   "cell_type": "markdown",
   "metadata": {},
   "source": [
    "Criteria for selecting features in SWE prediction models, Techniques and tools used for feature selection"
   ]
  },
  {
   "cell_type": "markdown",
   "metadata": {},
   "source": [
    "\n",
    "- **Filtering:** Select only the relevant columns needed for SWE prediction, such as weather conditions, geographic features, and snowpack measurements.\n",
    "- **Renaming:** Streamline column names for consistency and clarity (e.g., changing \"Snow Water Equivalent (in) Start of Day Values\" to \"swe_value\").\n",
    "\n",
    "save the final data into csv file."
   ]
  },
  {
   "cell_type": "code",
   "execution_count": null,
   "metadata": {
    "vscode": {
     "languageId": "plaintext"
    }
   },
   "outputs": [],
   "source": [
    "input_csv = '../data/model_training_data.csv'\n",
    "\n",
    "# List of columns you want to extract\n",
    "selected_columns = ['date', 'lat', 'lon', 'etr', 'pr', 'rmax',\n",
    "                    'rmin', 'tmmn', 'tmmx', 'vpd', 'vs', \n",
    "                    'elevation',\n",
    "                    'slope', 'curvature', 'aspect', 'eastness',\n",
    "                    'northness', 'Snow Water Equivalent (in) Start of Day Values']\n",
    "# Read the CSV file into a Dask DataFrame\n",
    "df = dd.read_csv(input_csv, usecols=selected_columns)\n",
    "\n",
    "df = df.rename(columns={\"Snow Water Equivalent (in) Start of Day Values\": \"swe_value\"})\n",
    "\n",
    "# Replace 'output.csv' with the desired output file name\n",
    "output_csv = '../data/model_training_cleaned.csv'\n",
    "\n",
    "# Write the selected columns to a new CSV file\n",
    "df.to_csv(output_csv, index=False, single_file=True)"
   ]
  },
  {
   "cell_type": "markdown",
   "metadata": {},
   "source": [
    "Major environmental factors that affect the swe and required to train the models are date, location which includes latitude and longitude, etr (`Evapotranspiration`), pr (`Precipitation`), rmax (`Maximum Relative Humidity`), rmin (`Minimum Relative Humidity`), tmmn (`Minimum Temperature`), tmmx (`Maximum Temperature`), vpd (`Vapor Pressure Deficit`), vs (`Wind Speed`), `elevation`, `slope`, `curvature`, `aspect`, `eastness`, `northness`.\n"
   ]
  }
 ],
 "metadata": {
  "language_info": {
   "name": "python"
  }
 },
 "nbformat": 4,
 "nbformat_minor": 2
}
