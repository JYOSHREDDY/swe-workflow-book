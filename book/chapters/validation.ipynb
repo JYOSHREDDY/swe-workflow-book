{
  "cells": [
    {
      "cell_type": "markdown",
      "metadata": {
        "id": "jrTh5-Sgr1Od"
      },
      "source": [
        "# Model Testing and Evaluation\n",
        "\n",
        "In predictive modeling, the objective to forecast Snow Water Equivalent stands as a testament to the confluence of data science and environmental science. This chapter delved into the testing and Evaluation part of this project."
      ]
    },
    {
      "cell_type": "markdown",
      "metadata": {
        "id": "IFvX25Khr2dW"
      },
      "source": [
        "But first BaseHole is an important part to understand. The BaseHole class embodies the lifecycle of machine learning in this project, from inception to deployment."
      ]
    },
    {
      "cell_type": "markdown",
      "metadata": {
        "id": "rkO0EdSFr4q1"
      },
      "source": [
        "At the heart of Snowcast's predictive prowess lies the BaseHole class -- a meticulously crafted blueprint for constructing models capable of predicting SWE. This class serves as the cornerstone for various machine-learning models. It offers a structured approach to handling data, training models, and making predictions with unparalleled precision."
      ]
    },
    {
      "cell_type": "markdown",
      "metadata": {
        "id": "Y-PZlyQKr48X"
      },
      "source": [
        "Let’s briefly discuss what is happening in this BaseHole class--\n",
        "\n",
        "\n",
        "\n",
        "*   Preprocessing: The journey begins with preprocessing, a critical phase where raw data is transformed into a refined form suitable for training. The BaseHole class adeptly navigates this phase, loading data, meticulously cleaning it, and splitting it into training and testing sets. This preparatory step ensures that the models are fed data that is both digestible and informative, setting the stage for accurate predictions.\n",
        "*   Training: This is the center of Learniing, with the data primed, the BaseHole class now moves on to the training phase. This is where the coalation of machine learning takes place as the class utilizes the power of its classifiers to learn from the training data. The model, through this process, uncovers patterns and insights hidden within the data, providing itself with the knowledge needed to predict SWE with confidence.\n"
      ]
    },
    {
      "cell_type": "markdown",
      "metadata": {
        "id": "2B9qmiO7r5N9"
      },
      "source": [
        "Now comes the part that is one of the main focus of this chapter—**Testing**\n",
        "\n",
        "Within the extensive array of functionalities provided by the BaseHole class, the testing process is akin to a rigorous examination.\n",
        "Unveiling the test function:\n",
        "\n",
        "So, what is a test?\n",
        "\n",
        "The test function operates on a simple yet profound principle: it utilizes the model to predict outcomes based on the test dataset. By invoking the classifier's prediction method, the BaseHole class utilizes the trained model on the test data to forecast SWE values with precision.\n"
      ]
    },
    {
      "cell_type": "code",
      "execution_count": 1,
      "metadata": {
        "id": "sxGkvT-ysDR2"
      },
      "outputs": [],
      "source": [
        "def test(self):\n",
        "  '''\n",
        "  Tests the machine learning model on the testing data.\n",
        "  Returns: numpy.ndarray: The predicted results on the testing data.\n",
        "  '''\n",
        "  self.test_y_results = self.classifier.predict(self.test_x)\n",
        "  return self.test_y_results"
      ]
    },
    {
      "cell_type": "markdown",
      "metadata": {
        "id": "qpzGEyDQsFaZ"
      },
      "source": [
        "**The Mechanics of Testing**\n",
        "\n",
        "At its core, the test function embodies the essence of machine learning validation. It executes the trained model's prediction method on the test_x dataset—a collection of features that the model has not encountered during its training phase. The function then returns the predicted SWE values, encapsulated within test_y_results, offering a glimpse into the model's predictive accuracy and reliability."
      ]
    },
    {
      "cell_type": "markdown",
      "metadata": {
        "id": "-0nRqBFQsICP"
      },
      "source": [
        "# Validation/Evaluation"
      ]
    },
    {
      "cell_type": "markdown",
      "metadata": {
        "id": "toh-cEggsKZ0"
      },
      "source": [
        "So now we have made a model, trained the model, and made predictions on a test dataset, but how to evaluate all of this? For this, we use multiple Evaluation metrics. A model needs to go through a rigorous validation process that assesses its effectiveness and accuracy. Evaluation is a testament to the model’s commitment to precision, ensuring that the predictions made are not only reliable but also meaningful."
      ]
    },
    {
      "cell_type": "markdown",
      "metadata": {
        "id": "unwqjmuhsMsc"
      },
      "source": [
        "For this project we have a comprehensive suite of metrics -- Mean Absolute Error (MAE), Mean Squared Error (MSE), R-squared (R2), and Root Mean Squared Error (RMSE). Each metric offers a unique lens through which the model's performance can be scrutinized, from the average error per prediction (MAE) to the proportion of variance explained (R2)."
      ]
    },
    {
      "cell_type": "markdown",
      "metadata": {
        "id": "dpbM36bgsRCB"
      },
      "source": [
        "**Insights**\n",
        "\n",
        "Upon invoking the evaluation method, the class embarks on a detailed analysis of the model's predictions. By comparing these predictions against actual values from the test dataset, the method illuminates the model's strengths and areas for improvement. The output—a dictionary of metrics—serves as a beacon, guiding further refinement and optimization of the model."
      ]
    },
    {
      "cell_type": "markdown",
      "metadata": {
        "id": "-Jwo8aLhsTEp"
      },
      "source": [
        "**The Testament of Metrics**\n",
        "\n",
        "\n",
        "*   MAE: This metric provides an average of the absolute errors between predicted and actual values, offering a straightforward measure of prediction accuracy.\n",
        "\n",
        "*   MSE: By squaring the errors before averaging, MSE penalizes larger errors more heavily, providing insight into the variance of the model's predictions.\n",
        "*   R2: The R2 score reveals how well the model's predictions conform to the actual data, serving as a gauge of the model's explanatory power.\n",
        "\n",
        "\n",
        "*   RMSE: As the square root of MSE, RMSE offers a measure of error in the same units as the predicted value, making it intuitively interpretable."
      ]
    },
    {
      "cell_type": "markdown",
      "metadata": {
        "id": "PdYjCmmbsVzW"
      },
      "source": [
        "# The Evaluation Process"
      ]
    },
    {
      "cell_type": "markdown",
      "metadata": {
        "id": "IlRUU0lzsW4r"
      },
      "source": [
        "Upon invocation, the evaluate method undertakes the task of computing these metrics, using the predictions generated by the RandomForestHole model (self.test_y_results) and comparing them against the actual values (self.test_y) from the test dataset. This comparison is the crux of the evaluation, offering a window into the model's predictive capabilities."
      ]
    },
    {
      "cell_type": "code",
      "execution_count": null,
      "metadata": {
        "colab": {
          "base_uri": "https://localhost:8080/",
          "height": 425
        },
        "id": "5OIcffx3sZAz",
        "outputId": "8b9aaccc-039f-40d6-f78f-ce0814619f26"
      },
      "outputs": [],
      "source": [
        "from sklearn.ensemble import RandomForestRegressor\n",
        "import numpy as np\n",
        "import pandas as pd\n",
        "import matplotlib.pyplot as plt\n",
        "import seaborn as sns\n",
        "from sklearn.model_selection import train_test_split\n",
        "from sklearn.preprocessing import MinMaxScaler\n",
        "from sklearn.metrics import mean_squared_error\n",
        "from sklearn import metrics\n",
        "from sklearn import tree\n",
        "import joblib\n",
        "import os\n",
        "from pathlib import Path\n",
        "import json\n",
        "# import geopandas as gpd\n",
        "# import geojson\n",
        "import os.path\n",
        "import math\n",
        "from sklearn.model_selection import RandomizedSearchCV\n",
        "\n",
        "exit(0)  # for now, the workflow is not ready yet\n",
        "\n",
        "# read the grid geometry file\n",
        "\n",
        "\n",
        "# read the grid geometry file\n",
        "homedir = os.path.expanduser('~')\n",
        "print(homedir)\n",
        "github_dir = f\"{homedir}/Documents/GitHub/SnowCast\"\n",
        "modis_test_ready_file = f\"{github_dir}/data/ready_for_training/modis_test_ready.csv\"\n",
        "modis_test_ready_pd = pd.read_csv(modis_test_ready_file, header=0, index_col=0)\n",
        "\n",
        "pd_to_clean = modis_test_ready_pd[[\"year\", \"m\", \"doy\", \"ndsi\", \"swe\", \"station_id\", \"cell_id\"]].dropna()\n",
        "\n",
        "all_features = pd_to_clean[[\"year\", \"m\", \"doy\", \"ndsi\"]].to_numpy()\n",
        "all_labels = pd_to_clean[[\"swe\"]].to_numpy().ravel()\n",
        "def evaluate(self):\n",
        "    y_predicted = model.predict(test_features)\n",
        "    mae = metrics.mean_absolute_error(y_test, y_predicted)\n",
        "    mse = metrics.mean_squared_error(y_test, y_predicted)\n",
        "    r2 = metrics.r2_score(y_test, y_predicted)\n",
        "    rmse = math.sqrt(mse)\n",
        "\n",
        "    print(\"The {} model performance for testing set\".format(model_name))\n",
        "    print(\"--------------------------------------\")\n",
        "    print('MAE is {}'.format(mae))\n",
        "    print('MSE is {}'.format(mse))\n",
        "    print('R2 score is {}'.format(r2))\n",
        "    print('RMSE is {}'.format(rmse))\n",
        "\n",
        "    return y_predicted"
      ]
    },
    {
      "cell_type": "markdown",
      "metadata": {
        "id": "RjgBbKVVsbKF"
      },
      "source": [
        "**Computing the Metrics:** Leveraging the metrics module from scikit-learn, the function calculates MAE, MSE, R2, and RMSE. Each of these calculations provides a different lens through which to view the model's performance, from average error rates (MAE, RMSE) to the model's explanatory power (R2) and the variance of its predictions (MSE).\n",
        "\n",
        "**Interpreting the Results:** The function not only computes these metrics but also prints them out, offering immediate insight into the model's efficacy. This step is vital for iterative model improvement, allowing data scientists to diagnose and address specific areas where the model may fall short.\n",
        "\n",
        "**Returning the Metrics:** Finally, the function encapsulates these metrics in a dictionary and returns it. This encapsulation allows for the metrics to be easily accessed, shared, and utilized in further analyses or reports, facilitating a deeper understanding of the model's impact and areas for enhancement.\n"
      ]
    },
    {
      "cell_type": "markdown",
      "metadata": {
        "id": "s3zrQxxUsmOK"
      },
      "source": [
        "![image.png](data:image/png;base64,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)"
      ]
    },
    {
      "cell_type": "markdown",
      "metadata": {
        "id": "C1pxcIYgsvKD"
      },
      "source": [
        "All the necessary functions are called in the model_train_validate"
      ]
    },
    {
      "cell_type": "code",
      "execution_count": null,
      "metadata": {
        "colab": {
          "base_uri": "https://localhost:8080/",
          "height": 210
        },
        "id": "D2hKsntLszCu",
        "outputId": "bc07fb82-c871-471f-d0b6-260347cdb036"
      },
      "outputs": [],
      "source": [
        "def main(): print(\"Train Models\")\n",
        "# Choose the machine learning models to train (e.g., RandomForestHole, XGBoostHole, ETHole)\n",
        "worm_holes = [ETHole()]\n",
        "for hole in worm_holes:\n",
        "# Perform preprocessing for the selected model\n",
        "    hole.preprocessing()\n",
        "print(hole.train_x.shape)\n",
        "print(hole.train_y.shape)\n",
        "# Train the machine learning model\n",
        "hole.train()\n",
        "# Test the trained model\n",
        "hole.test()\n",
        "# Evaluate the model's performance\n",
        "hole.evaluate()\n",
        "# Save the trained model\n",
        "hole.save()\n",
        "print(\"Finished training and validating all the models.\")"
      ]
    },
    {
      "cell_type": "markdown",
      "metadata": {
        "id": "JJDaq-uls1AR"
      },
      "source": [
        "In conclusion, testing and validation form the bedrock of predictive excellence in the SnowCast project. They are not merely steps in the machine learning workflow but are the very processes that ensure the models we build are not just algorithms but are reliable interpreters of the natural world."
      ]
    }
  ],
  "metadata": {
    "colab": {
      "provenance": []
    },
    "kernelspec": {
      "display_name": "Python 3 (ipykernel)",
      "language": "python",
      "name": "python3"
    },
    "language_info": {
      "codemirror_mode": {
        "name": "ipython",
        "version": 3
      },
      "file_extension": ".py",
      "mimetype": "text/x-python",
      "name": "python",
      "nbconvert_exporter": "python",
      "pygments_lexer": "ipython3",
      "version": "3.11.5"
    }
  },
  "nbformat": 4,
  "nbformat_minor": 0
}
