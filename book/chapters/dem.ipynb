{
 "cells": [
  {
   "cell_type": "markdown",
   "id": "29dcdd816afc6ba4",
   "metadata": {},
   "source": [
    "# Digital Elevation Model"
   ]
  },
  {
   "cell_type": "markdown",
   "id": "6fa3ef5a",
   "metadata": {},
   "source": [
    "A Digital Elevation Model (DEM) is a 3D representation of a terrain’s surface, created from terrain elevation data. It represents the earth’s surface in a raster format, where each cell or pixel holds the elevation value at that location.\n",
    "\n",
    "Used to analyze topography, such as `slope`, `aspect`, and `curvature`, which are essential for understanding landforms and landscape features.\n",
    "\n",
    "This chapter covers how to create, process, and analyze DEMs using Python and shell scripts. We will walk through the process of creating a GeoTIFF file for a specific region, reprojection and resampling of DEMs, and extracting various features from DEMs"
   ]
  },
  {
   "cell_type": "markdown",
   "id": "acd0a803",
   "metadata": {},
   "source": [
    "## Creating a GeoTIFF Template for the Western U.S."
   ]
  },
  {
   "cell_type": "markdown",
   "id": "3f8baeac",
   "metadata": {},
   "source": [
    "Our goal is to create a GeoTIFF file that serves as a template for the western U.S. This GeoTIFF will have a specified spatial extent and resolution, and will initially contain an empty 2D array. This template can be used as a starting point for adding real elevation data later."
   ]
  },
  {
   "cell_type": "markdown",
   "id": "edb3cec0",
   "metadata": {},
   "source": [
    "**Spatial Extent**: Defines the geographic area covered by the DEM. For this example, we will focus on the western U.S. with specific latitude and longitude boundaries.\n",
    "\n",
    "**Resolution**: Determines the level of detail in the DEM. A resolution of 0.036 degrees is chosen here, which corresponds to a spatial resolution of approximately 4 kilometers.\n",
    "\n",
    "**GeoTIFF**: A file format for storing raster graphics, including DEMs. It includes metadata about the spatial reference and other attributes."
   ]
  },
  {
   "cell_type": "code",
   "execution_count": 1,
   "id": "aba8932d",
   "metadata": {},
   "outputs": [],
   "source": [
    "import os\n",
    "import rasterio\n",
    "from rasterio.transform import from_origin\n",
    "import numpy as np"
   ]
  },
  {
   "cell_type": "markdown",
   "id": "db7a3f8e",
   "metadata": {},
   "source": [
    "`os` module is for handling file operations. `rasterio` for reading and writing raster data in GeoTIFF format. `numpy` is for handling numerical operations and array manipulations"
   ]
  },
  {
   "cell_type": "code",
   "execution_count": 2,
   "id": "23981f2e",
   "metadata": {},
   "outputs": [],
   "source": [
    "minx, miny, maxx, maxy = -125, 25, -100, 49\n",
    "resolution = 0.036\n",
    "width = int((maxx - minx) / resolution)\n",
    "height = int((maxy - miny) / resolution)\n",
    "data = np.zeros((height, width), dtype=np.float32)\n",
    "output_filename = f\"../data/dem/western_us_geotiff_template.tif\"\n",
    "with rasterio.open(\n",
    "    output_filename,\n",
    "    'w',\n",
    "    driver='GTiff',\n",
    "    height=height,\n",
    "    width=width,\n",
    "    count=1,  # Single band\n",
    "    dtype=np.float32,\n",
    "    crs='EPSG:4326',  # WGS84\n",
    "    transform=from_origin(minx, maxy, resolution, resolution),\n",
    ") as dst:\n",
    "    dst.write(data, 1)\n"
   ]
  },
  {
   "cell_type": "markdown",
   "id": "f230b50b",
   "metadata": {},
   "source": [
    "`minx` and `maxx`: Define the western and eastern boundaries.\n",
    "\n",
    "`miny` and `maxy`: Define the southern and northern boundaries.\n",
    "\n",
    "`resolution`: The distance between adjacent pixels in degrees.\n",
    "\n",
    "Based on the spatial extent and resolution, we calculate the width and height of the DEM in pixels:\n",
    "\n",
    "We initialize a NumPy array to hold the DEM data. This array will be empty initially but can be populated with elevation data later\n",
    "\n",
    "Using the Rasterio library, we create the GeoTIFF file and write the empty data array to it. We specify the metadata, including the coordinate reference system (CRS) and the transformation that maps pixel coordinates to geographic coordinates"
   ]
  },
  {
   "cell_type": "markdown",
   "id": "d15cf514",
   "metadata": {},
   "source": [
    "## 2. Reprojecting and Resampling DEMs"
   ]
  },
  {
   "cell_type": "markdown",
   "id": "47766dbc",
   "metadata": {},
   "source": [
    "Below script does \n",
    "- Creates a directory for storing template shapefiles.\n",
    "- Copies the template GeoTIFF into the working directory.\n",
    "- Generates a shapefile from the template TIFF to use as a clipping mask.\n",
    "- Reprojects and resamples the DEM using gdalwarp to match the template's spatial extent and resolution.\n",
    "- Checks the details of the output file to ensure correctness.\n"
   ]
  },
  {
   "cell_type": "markdown",
   "id": "bfaf419a",
   "metadata": {},
   "source": [
    "```shell\n",
    "#!/bin/bash\n",
    "# This script will reproject and resample the western US DEM, clip it, to match the exact spatial extent and resolution as the template TIFF.\n",
    "\n",
    "cd /home/chetana/gridmet_test_run\n",
    "\n",
    "mkdir template_shp/\n",
    "\n",
    "cp /home/chetana/western_us_geotiff_template.tif template_shp/\n",
    "\n",
    "# Generate the template shape\n",
    "gdaltindex template.shp template_shp/*.tif\n",
    "\n",
    "# Reproject and resample the DEM\n",
    "gdalwarp -s_srs EPSG:4326 -t_srs EPSG:4326 -tr 0.036 0.036 -cutline template.shp -crop_to_cutline -overwrite output_4km.tif output_4km_clipped.tif\n",
    "\n",
    "# Check the output\n",
    "gdalinfo output_4km_clipped.tif\n",
    "```"
   ]
  },
  {
   "cell_type": "markdown",
   "id": "b95f8043",
   "metadata": {},
   "source": [
    "Generated output looks like this\n",
    "\n",
    "```Creating output file that is 694P x 666L.\n",
    "Processing output_4km.tif [1/1] : 0Warning 1: the source raster dataset has a SRS, but the cutline features\n",
    "not.  We assume that the cutline coordinates are expressed in the destination SRS.\n",
    "If not, cutline results may be incorrect.\n",
    "...10...20...30...40...50...60...70...80...90...100 - done.\n",
    "Driver: GTiff/GeoTIFF\n",
    "Files: output_4km_clipped.tif\n",
    "Size is 694, 666\n",
    "Coordinate System is:\n",
    "GEOGCRS[\"WGS 84\",\n",
    "    ENSEMBLE[\"World Geodetic System 1984 ensemble\",\n",
    "        MEMBER[\"World Geodetic System 1984 (Transit)\"],\n",
    "        MEMBER[\"World Geodetic System 1984 (G730)\"],\n",
    "        MEMBER[\"World Geodetic System 1984 (G873)\"],\n",
    "        MEMBER[\"World Geodetic System 1984 (G1150)\"],\n",
    "        MEMBER[\"World Geodetic System 1984 (G1674)\"],\n",
    "        MEMBER[\"World Geodetic System 1984 (G1762)\"],\n",
    "        MEMBER[\"World Geodetic System 1984 (G2139)\"],\n",
    "        ELLIPSOID[\"WGS 84\",6378137,298.257223563,\n",
    "            LENGTHUNIT[\"metre\",1]],\n",
    "        ENSEMBLEACCURACY[2.0]],\n",
    "    PRIMEM[\"Greenwich\",0,\n",
    "        ANGLEUNIT[\"degree\",0.0174532925199433]],\n",
    "    CS[ellipsoidal,2],\n",
    "        AXIS[\"geodetic latitude (Lat)\",north,\n",
    "            ORDER[1],\n",
    "            ANGLEUNIT[\"degree\",0.0174532925199433]],\n",
    "        AXIS[\"geodetic longitude (Lon)\",east,\n",
    "            ORDER[2],\n",
    "            ANGLEUNIT[\"degree\",0.0174532925199433]],\n",
    "    USAGE[\n",
    "        SCOPE[\"Horizontal component of 3D system.\"],\n",
    "        AREA[\"World.\"],\n",
    "        BBOX[-90,-180,90,180]],\n",
    "    ID[\"EPSG\",4326]]\n",
    "Data axis to CRS axis mapping: 2,1\n",
    "Origin = (-125.000000000000000,49.000000000000000)\n",
    "Pixel Size = (0.036000000000000,-0.036000000000000)\n",
    "Metadata:\n",
    "  AREA_OR_POINT=Area\n",
    "Image Structure Metadata:\n",
    "  INTERLEAVE=BAND\n",
    "Corner Coordinates:\n",
    "Upper Left  (-125.0000000,  49.0000000) (125d 0' 0.00\"W, 49d 0' 0.00\"N)\n",
    "Lower Left  (-125.0000000,  25.0240000) (125d 0' 0.00\"W, 25d 1'26.40\"N)\n",
    "Upper Right (-100.0160000,  49.0000000) (100d 0'57.60\"W, 49d 0' 0.00\"N)\n",
    "Lower Right (-100.0160000,  25.0240000) (100d 0'57.60\"W, 25d 1'26.40\"N)\n",
    "Center      (-112.5080000,  37.0120000) (112d30'28.80\"W, 37d 0'43.20\"N)\n",
    "Band 1 Block=694x2 Type=Float32, ColorInterp=Gray\n",
    "```"
   ]
  },
  {
   "cell_type": "markdown",
   "id": "c9479759",
   "metadata": {},
   "source": [
    "## 3. Calculating DEM Features"
   ]
  },
  {
   "cell_type": "markdown",
   "metadata": {},
   "source": [
    "Extract various terrain features from the DEM, such as slope, aspect, curvature, northness, and eastness, and save the results."
   ]
  },
  {
   "cell_type": "code",
   "execution_count": 3,
   "id": "5c613cce",
   "metadata": {},
   "outputs": [],
   "source": [
    "import numpy as np\n",
    "import pandas as pd\n",
    "from osgeo import gdal\n",
    "import warnings\n",
    "import rasterio\n",
    "import csv\n",
    "from rasterio.transform import Affine\n",
    "from scipy.ndimage import sobel, gaussian_filter"
   ]
  },
  {
   "cell_type": "code",
   "execution_count": 4,
   "id": "838251f5",
   "metadata": {},
   "outputs": [],
   "source": [
    "def lat_lon_to_pixel(lat, lon, geotransform):\n",
    "    x = int((lon - geotransform[0]) / geotransform[1])\n",
    "    y = int((lat - geotransform[3]) / geotransform[5])\n",
    "    return x, y"
   ]
  },
  {
   "cell_type": "markdown",
   "id": "3b628d27",
   "metadata": {},
   "source": [
    "Converts latitude and longitude coordinates to pixel coordinates using the geotransform of the raster. The geotransform provides the mapping between geographic coordinates and pixel locations."
   ]
  },
  {
   "cell_type": "code",
   "execution_count": 5,
   "id": "cb06819a",
   "metadata": {},
   "outputs": [],
   "source": [
    "def calculate_slope_aspect(dem_file):\n",
    "    with rasterio.open(dem_file) as dataset:\n",
    "        dem_data = dataset.read(1)\n",
    "        transform = dataset.transform\n",
    "        dx, dy = np.gradient(dem_data)\n",
    "        slope = np.arctan(np.sqrt(dx**2 + dy**2))\n",
    "        slope = 90 - np.degrees(slope)\n",
    "        aspect = np.degrees(np.arctan2(-dy, dx))\n",
    "        aspect[aspect < 0] += 360\n",
    "    return slope, aspect\n"
   ]
  },
  {
   "cell_type": "markdown",
   "id": "be712dde",
   "metadata": {},
   "source": [
    "Read DEM Data: Open the DEM file and read its data.\n",
    "\n",
    "Calculate Gradients: Use np.gradient to compute the gradient in the x (dx) and y (dy) directions.\n",
    "\n",
    "Calculate Slope: Use the gradients to compute slope using the arctangent function.\n",
    "\n",
    "Calculate Aspect: Compute the direction of the slope (aspect) using the arctangent function.\n",
    "\n",
    "Adjust Aspect Values: Ensure aspect values are between 0 and 360 degrees."
   ]
  },
  {
   "cell_type": "code",
   "execution_count": 6,
   "id": "21733b24",
   "metadata": {},
   "outputs": [],
   "source": [
    "def calculate_curvature(dem_file, sigma=1):\n",
    "    with rasterio.open(dem_file) as dataset:\n",
    "        dem_data = dataset.read(1)\n",
    "        dx = sobel(dem_data, axis=1, mode='constant')\n",
    "        dy = sobel(dem_data, axis=0, mode='constant')\n",
    "        dxx = sobel(dx, axis=1, mode='constant')\n",
    "        dyy = sobel(dy, axis=0, mode='constant')\n",
    "        curvature = dxx + dyy\n",
    "        curvature = gaussian_filter(curvature, sigma)\n",
    "    return curvature\n"
   ]
  },
  {
   "cell_type": "markdown",
   "id": "801441fa",
   "metadata": {},
   "source": [
    "Read DEM Data: Open the DEM file and read its data.\n",
    "\n",
    "Calculate Gradients: Use Sobel filters to calculate gradients in the x and y directions.\n",
    "\n",
    "Calculate Curvature: Compute the second derivatives (dxx and dyy) and sum them to get curvature. Apply Gaussian smoothing to reduce noise."
   ]
  },
  {
   "cell_type": "code",
   "execution_count": 7,
   "id": "5c04ab81",
   "metadata": {},
   "outputs": [],
   "source": [
    "def calculate_gradients(dem_file):\n",
    "    with rasterio.open(dem_file) as dataset:\n",
    "        dem_data = dataset.read(1)\n",
    "        dy, dx = np.gradient(dem_data, dataset.res[0], dataset.res[1])\n",
    "        northness = np.arctan(dy / np.sqrt(dx**2 + dy**2))\n",
    "        eastness = np.arctan(dx / np.sqrt(dx**2 + dy**2))\n",
    "    return northness, eastness\n"
   ]
  },
  {
   "cell_type": "markdown",
   "id": "fbbcd460",
   "metadata": {},
   "source": [
    "Read DEM Data: Open the DEM file and read its data.\n",
    "\n",
    "Calculate Gradients: Compute gradients in the y (dy) and x (dx) directions.\n",
    "\n",
    "Calculate Northness: Compute the northness (gradient in the north direction).\n",
    "\n",
    "Calculate Eastness: Compute the eastness (gradient in the east direction).\n"
   ]
  },
  {
   "cell_type": "code",
   "execution_count": 8,
   "id": "9223f2ef",
   "metadata": {},
   "outputs": [],
   "source": [
    "def geotiff_to_csv(geotiff_file, csv_file, column_name):\n",
    "    with rasterio.open(geotiff_file) as dataset:\n",
    "        data = dataset.read(1)\n",
    "        transform = dataset.transform\n",
    "        height, width = data.shape\n",
    "        with open(csv_file, 'w', newline='') as csvfile:\n",
    "            csvwriter = csv.writer(csvfile)\n",
    "            csvwriter.writerow(['Latitude', 'Longitude', 'x', 'y', column_name])\n",
    "            for y in range(height):\n",
    "                for x in range(width):\n",
    "                    image_value = data[y, x]\n",
    "                    lon, lat = transform * (x, y)\n",
    "                    csvwriter.writerow([lat, lon, x, y, image_value])\n"
   ]
  },
  {
   "cell_type": "markdown",
   "id": "8c6e56f8",
   "metadata": {},
   "source": [
    "Read GeoTIFF Data: Open the GeoTIFF file and read its data.\n",
    "\n",
    "Transform Data: Convert pixel coordinates to geographic coordinates using the geotransform.\n",
    "\n",
    "Write CSV File: Save the data to a CSV file with columns for latitude, longitude, pixel coordinates, and the data value.\n"
   ]
  },
  {
   "cell_type": "code",
   "execution_count": 10,
   "id": "fac5c408",
   "metadata": {},
   "outputs": [],
   "source": [
    "def save_as_geotiff(data, output_file, src_file):\n",
    "    \"\"\"\n",
    "    Save data as a GeoTIFF file with metadata from the source file.\n",
    "\n",
    "    Args:\n",
    "        data (array): Data to be saved.\n",
    "        output_file (str): Path to the output GeoTIFF file.\n",
    "        src_file (str): Path to the source GeoTIFF file to inherit metadata from.\n",
    "    \"\"\"\n",
    "    with rasterio.open(src_file) as src_dataset:\n",
    "        profile = src_dataset.profile\n",
    "        transform = src_dataset.transform\n",
    "\n",
    "        # Update the data type, count, and set the transform for the new dataset\n",
    "        profile.update(dtype=rasterio.float32, count=1, transform=transform)\n",
    "\n",
    "        # Create the new GeoTIFF file\n",
    "        with rasterio.open(output_file, 'w', **profile) as dst_dataset:\n",
    "            # Write the data to the new GeoTIFF\n",
    "            dst_dataset.write(data, 1)"
   ]
  },
  {
   "cell_type": "code",
   "execution_count": 11,
   "id": "f9985f5f",
   "metadata": {},
   "outputs": [
    {
     "name": "stderr",
     "output_type": "stream",
     "text": [
      "/var/folders/tg/bv4s19f94fv3gqmxhbtgwf_80000gn/T/ipykernel_39509/2570874998.py:5: RuntimeWarning: invalid value encountered in divide\n",
      "  northness = np.arctan(dy / np.sqrt(dx**2 + dy**2))\n",
      "/var/folders/tg/bv4s19f94fv3gqmxhbtgwf_80000gn/T/ipykernel_39509/2570874998.py:6: RuntimeWarning: invalid value encountered in divide\n",
      "  eastness = np.arctan(dx / np.sqrt(dx**2 + dy**2))\n"
     ]
    },
    {
     "name": "stdout",
     "output_type": "stream",
     "text": [
      "count    462204.000000\n",
      "mean         37.030000\n",
      "std           6.921275\n",
      "min          25.060000\n",
      "25%          31.036000\n",
      "50%          37.030000\n",
      "75%          43.024000\n",
      "max          49.000000\n",
      "Name: Latitude, dtype: float64\n",
      "count    462204.00000\n",
      "mean       -112.52600\n",
      "std           7.21226\n",
      "min        -125.00000\n",
      "25%        -118.77200\n",
      "50%        -112.52600\n",
      "75%        -106.28000\n",
      "max        -100.05200\n",
      "Name: Longitude, dtype: float64\n",
      "count    462204.000000\n",
      "mean        346.500000\n",
      "std         200.340552\n",
      "min           0.000000\n",
      "25%         173.000000\n",
      "50%         346.500000\n",
      "75%         520.000000\n",
      "max         693.000000\n",
      "Name: x, dtype: float64\n",
      "count    462204.000000\n",
      "mean        332.500000\n",
      "std         192.257631\n",
      "min           0.000000\n",
      "25%         166.000000\n",
      "50%         332.500000\n",
      "75%         499.000000\n",
      "max         665.000000\n",
      "Name: y, dtype: float64\n",
      "count    462204.000000\n",
      "mean       1025.629083\n",
      "std         808.945819\n",
      "min         -82.938410\n",
      "25%         180.727250\n",
      "50%        1018.458080\n",
      "75%        1604.870600\n",
      "max        4177.173000\n",
      "Name: Elevation, dtype: float64\n",
      "count    462204.000000\n",
      "mean         20.325398\n",
      "std          35.542848\n",
      "min           0.044037\n",
      "25%           0.521088\n",
      "50%           1.558449\n",
      "75%           7.970741\n",
      "max          90.000000\n",
      "Name: Slope, dtype: float64\n",
      "count    462204.000000\n",
      "mean        136.166265\n",
      "std         114.602954\n",
      "min          -0.000000\n",
      "25%          19.602830\n",
      "50%         121.656285\n",
      "75%         232.066403\n",
      "max         359.999360\n",
      "Name: Aspect, dtype: float64\n",
      "count    462204.000000\n",
      "mean        -49.124993\n",
      "std        2819.341836\n",
      "min      -41085.560000\n",
      "25%        -482.398620\n",
      "50%           0.000000\n",
      "75%         840.230590\n",
      "max       21411.324000\n",
      "Name: Curvature, dtype: float64\n",
      "count    368579.000000\n",
      "mean         -0.012698\n",
      "std           0.587101\n",
      "min          -0.785398\n",
      "25%          -0.626382\n",
      "50%          -0.027939\n",
      "75%           0.608819\n",
      "max           0.785398\n",
      "Name: Northness, dtype: float64\n",
      "count    368579.000000\n",
      "mean         -0.040279\n",
      "std           0.583256\n",
      "min          -0.785398\n",
      "25%          -0.643895\n",
      "50%          -0.087261\n",
      "75%           0.573790\n",
      "max           0.785398\n",
      "Name: Eastness, dtype: float64\n",
      "New dem features are updated in ../data/dem/dem_all.csv\n"
     ]
    }
   ],
   "source": [
    "result_dem_csv_path = \"../data/dem/dem_template.csv\"\n",
    "result_dem_feature_csv_path = \"../data/dem/dem_all.csv\"\n",
    "\n",
    "dem_file = \"../data/dem/dem_file.tif\"\n",
    "slope_file = '../data/dem/dem_file.tif_slope.tif'\n",
    "aspect_file = '../data/dem/dem_file.tif_aspect.tif'\n",
    "curvature_file = '../data/dem/curvature_file.tif'\n",
    "northness_file = '../data/dem/northness_file.tif'\n",
    "eastness_file = '../data/dem/eastness_file.tif'\n",
    "\n",
    "slope, aspect = calculate_slope_aspect(dem_file)\n",
    "# slope = calculate_slope(dem_file)\n",
    "# aspect = calculate_aspect(dem_file)\n",
    "curvature = calculate_curvature(dem_file)\n",
    "northness, eastness = calculate_gradients(dem_file)\n",
    "\n",
    "# Save the slope and aspect as new GeoTIFF files\n",
    "save_as_geotiff(slope, slope_file, dem_file)\n",
    "save_as_geotiff(aspect, aspect_file, dem_file)\n",
    "save_as_geotiff(curvature, curvature_file, dem_file)\n",
    "save_as_geotiff(northness, northness_file, dem_file)\n",
    "save_as_geotiff(eastness, eastness_file, dem_file)\n",
    "\n",
    "geotiff_to_csv(dem_file, dem_file+\".csv\", \"Elevation\")\n",
    "geotiff_to_csv(slope_file, slope_file+\".csv\", \"Slope\")\n",
    "geotiff_to_csv(aspect_file, aspect_file+\".csv\", \"Aspect\")\n",
    "geotiff_to_csv(curvature_file, curvature_file+\".csv\", \"Curvature\")\n",
    "geotiff_to_csv(northness_file, northness_file+\".csv\", \"Northness\")\n",
    "geotiff_to_csv(eastness_file, eastness_file+\".csv\", \"Eastness\")\n",
    "\n",
    "# List of file paths for the CSV files\n",
    "csv_files = [dem_file+\".csv\", slope_file+\".csv\", aspect_file+\".csv\", \n",
    "                curvature_file+\".csv\", northness_file+\".csv\", eastness_file+\".csv\"]\n",
    "\n",
    "# Initialize an empty list to store all dataframes\n",
    "dfs = []\n",
    "\n",
    "# Read each CSV file into separate dataframes\n",
    "for file in csv_files:\n",
    "    df = pd.read_csv(file, encoding='utf-8')\n",
    "    dfs.append(df)\n",
    "\n",
    "# Merge the dataframes based on the latitude and longitude columns\n",
    "merged_df = dfs[0]  # Start with the first dataframe\n",
    "for i in range(1, len(dfs)):\n",
    "    merged_df = pd.merge(merged_df, dfs[i], on=['Latitude', 'Longitude', 'x', 'y'])\n",
    "\n",
    "# check the statistics of the columns\n",
    "for column in merged_df.columns:\n",
    "    merged_df[column] = pd.to_numeric(merged_df[column], errors='coerce')\n",
    "    print(merged_df[column].describe())\n",
    "\n",
    "# Save the merged dataframe to a new CSV file\n",
    "merged_df.to_csv(result_dem_feature_csv_path, index=False)\n",
    "print(f\"New dem features are updated in {result_dem_feature_csv_path}\")"
   ]
  },
  {
   "cell_type": "markdown",
   "id": "db1056fb",
   "metadata": {},
   "source": []
  }
 ],
 "metadata": {
  "kernelspec": {
   "display_name": "Python 3 (ipykernel)",
   "language": "python",
   "name": "python3"
  },
  "language_info": {
   "codemirror_mode": {
    "name": "ipython",
    "version": 3
   },
   "file_extension": ".py",
   "mimetype": "text/x-python",
   "name": "python",
   "nbconvert_exporter": "python",
   "pygments_lexer": "ipython3",
   "version": "3.11.8"
  }
 },
 "nbformat": 4,
 "nbformat_minor": 5
}
