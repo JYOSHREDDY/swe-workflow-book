{
 "cells": [
  {
   "cell_type": "markdown",
   "metadata": {
    "id": "TWAdqXXvf1M7"
   },
   "source": [
    "# Model Prediction/Evaluation"
   ]
  },
  {
   "cell_type": "markdown",
   "metadata": {
    "id": "M0bqKyYqf5DT"
   },
   "source": [
    "Finally, we are at the final Chapter where we see the end-product of the model created. As we venture into this critical phase, the model_predict script emerges as a lighthouse, guiding the way toward understanding and anticipating the future of snow water equivalent (SWE) through the RandomForestHole model. This chapter delves into the intricacies of this script, unraveling the processes that transform raw, unprocessed data into precise predictions that illuminate the path forward."
   ]
  },
  {
   "cell_type": "markdown",
   "metadata": {
    "id": "sFDziC_Df-lP"
   },
   "source": [
    "**Preparing for Prediction:**\n",
    "This begins with loading and pre-processing of data"
   ]
  },
  {
   "cell_type": "markdown",
   "metadata": {
    "id": "EpdJKnj7gTr8"
   },
   "source": [
    "Loading Data: The script starts by ingesting data from a CSV file, bringing into the fold the vast array of variable"
   ]
  },
  {
   "cell_type": "code",
   "execution_count": null,
   "metadata": {
    "id": "LkzaZTCtgJ5R"
   },
   "outputs": [],
   "source": [
    "def load_data(file_path):\n",
    "  \"\"\"\n",
    "  Load data from a CSV file.\n",
    "  Args: file_path (str): Path to the CSV file containing the data.\n",
    "  Returns: pd.DataFrame: A pandas DataFrame containing the loaded data.\n",
    "   \"\"\"\n",
    "  return pd.read_csv(file_path)"
   ]
  },
  {
   "cell_type": "markdown",
   "metadata": {
    "id": "zUwlJCu6ge2k"
   },
   "source": [
    "Pre-processing: Next, the data undergoes a transformation. Dates are converted, irrelevant columns are discarded, and the data is reshaped to match the model's expectations. This step is akin to sharpening the sword before battle, ensuring that the model's input is not only precise but also aligned with the temporal and spatial intricacies of snow accumulation and melt."
   ]
  },
  {
   "cell_type": "code",
   "execution_count": null,
   "metadata": {
    "id": "wXQ-4JBdgjdG"
   },
   "outputs": [],
   "source": [
    "def preprocess_data(data):\n",
    "  \"\"\"\n",
    "  Preprocess the input data for model prediction.\n",
    "  Args: data (pd.DataFrame): Input data in the form of a pandas DataFrame.\n",
    "  Returns: pd.DataFrame: Preprocessed data ready for prediction.\n",
    "  \"\"\"\n",
    "  data['date'] = pd.to_datetime(data['date'])\n",
    "  data.replace('--', pd.NA, inplace=True)\n",
    "  data.rename(columns={'Latitude': 'lat', 'Longitude': 'lon',\n",
    "                       'vpd': 'mean_vapor_pressure_deficit',\n",
    "                       'vs': 'wind_speed', 'pr': 'precipitation_amount',\n",
    "                       'etr': 'potential_evapotranspiration', 'tmmn': 'air_temperature_tmmn',\n",
    "                       'tmmx': 'air_temperature_tmmx', 'rmin': 'relative_humidity_rmin',\n",
    "                       'rmax': 'relative_humidity_rmax', 'cumulative_AMSR_SWE': 'cumulative_SWE',\n",
    "                       'cumulative_AMSR_Flag': 'cumulative_Flag', 'cumulative_tmmn':'cumulative_air_temperature_tmmn',\n",
    "                       'cumulative_etr': 'cumulative_potential_evapotranspiration', 'cumulative_vpd': 'cumulative_mean_vapor_pressure_deficit',\n",
    "                       'cumulative_rmax': 'cumulative_relative_humidity_rmax', 'cumulative_rmin': 'cumulative_relative_humidity_rmin',\n",
    "                       'cumulative_pr': 'cumulative_precipitation_amount', 'cumulative_tmmx': 'cumulative_air_temperature_tmmx',\n",
    "                       'cumulative_vs': 'cumulative_wind_speed', 'AMSR_SWE': 'SWE', 'AMSR_Flag': 'Flag', }, inplace=True)\n",
    "  print(data.head())\n",
    "  print(data.columns)\n",
    "  selected_columns.remove(\"swe_value\")\n",
    "  desired_order = selected_columns + ['lat', 'lon',]\n",
    "  data = data[desired_order]\n",
    "  data = data.reindex(columns=desired_order)\n",
    "  print(\"reorganized columns: \", data.columns)\n",
    "  return data\n"
   ]
  },
  {
   "cell_type": "markdown",
   "metadata": {
    "id": "qZg6If3Lhecf"
   },
   "source": [
    "**Loading Model**: The script retrieves the RandomForestHole model from its slumber, awakening it to perform its primary duty—prediction."
   ]
  },
  {
   "cell_type": "code",
   "execution_count": null,
   "metadata": {
    "id": "d7EsL7aVhltv"
   },
   "outputs": [],
   "source": [
    "def load_model(model_path):\n",
    "    \"\"\"\n",
    "    Load a machine learning model from a file.\n",
    "\n",
    "    Args:\n",
    "        model_path (str): Path to the saved model file.\n",
    "\n",
    "    Returns:\n",
    "        model: The loaded machine learning model.\n",
    "    \"\"\"\n",
    "    return joblib.load(model_path)"
   ]
  },
  {
   "cell_type": "markdown",
   "metadata": {
    "id": "NRBPyBVxhu3r"
   },
   "source": [
    "**predict_swe:** Before prediction can commence, predict_swe undertakes the crucial task of preparing the input data."
   ]
  },
  {
   "cell_type": "code",
   "execution_count": null,
   "metadata": {
    "id": "Uv3nAmw-h3EO"
   },
   "outputs": [],
   "source": [
    "def predict_swe(model, data):\n",
    "  \"\"\"\n",
    "  Predict snow water equivalent (SWE) using a machine learning model.\n",
    "  Args: model: The machine learning model for prediction.\n",
    "  data (pd.DataFrame): Input data for prediction.\n",
    "  Returns: pd.DataFrame: Dataframe with predicted SWE values.\n",
    "  \"\"\"\n",
    "  data = data.fillna(-999)\n",
    "  input_data = data\n",
    "  input_data = data.drop([\"lat\", \"lon\"], axis=1)\n",
    "  predictions = model.predict(input_data)\n",
    "  data['predicted_swe'] = predictions\n",
    "  return data"
   ]
  },
  {
   "cell_type": "markdown",
   "metadata": {
    "id": "PYeFXD4xiJpi"
   },
   "source": [
    "It fills missing values with a designated placeholder (-999), a common practice to ensure machine learning algorithms can process the data without encountering errors due to missing values. This step reflects a balance between data integrity and computational requirements, enabling the model to make predictions even in the absence of complete information.\n",
    "\n",
    "At the core of predict_swe is the model's .predict method invocation. This step is where the machine learning model, trained on historical data, applies its learned patterns to the new, unseen data. The decision to drop geographical identifiers (lat, lon) before prediction underscores a focus on the environmental and temporal factors influencing SWE, aligning the model's inputs with its training regime.\n",
    "\n",
    "The function concludes by appending the model's predictions back to the original dataset as a new column, predicted_swe. This enrichment transforms the dataset from a static snapshot of past and present conditions into a dynamic forecast of future snow water equivalents. This step is critical for stakeholders relying on accurate SWE predictions."
   ]
  },
  {
   "cell_type": "markdown",
   "metadata": {
    "id": "Zmbl6QxXiVIE"
   },
   "source": [
    "**Merge_data:** merge_data meticulously combines the predicted SWE values with the original dataset. It employs conditional logic to adjust predictions based on specific criteria, such as nullifying predictions in the absence of key environmental data. This approach underscores a commitment to precision, ensuring that the predictions reflect a nuanced understanding of the environmental context."
   ]
  },
  {
   "cell_type": "code",
   "execution_count": null,
   "metadata": {
    "id": "aa_il7YriZlE"
   },
   "outputs": [],
   "source": [
    "def merge_data(original_data, predicted_data):\n",
    "  \"\"\"\n",
    "  Merge predicted SWE data with the original data.\n",
    "  Args: original_data (pd.DataFrame): Original input data.\n",
    "  predicted_data (pd.DataFrame): Dataframe with predicted SWE values.\n",
    "   Returns: pd.DataFrame: Merged dataframe.\n",
    "   \"\"\""
   ]
  },
  {
   "cell_type": "markdown",
   "metadata": {
    "id": "ER1Ej6OPioDb"
   },
   "source": [
    "**This function's Technical execution**\n",
    "\n",
    "Merging datasets based on date, latitude, and longitude—exemplifies the complex dance of data science. It ensures that each predicted SWE value is accurately aligned with its corresponding geographical and temporal marker, preserving the integrity and utility of the predictions. This process not only highlights the technical sophistication of the SnowCast project but also its dedication to delivering reliable, actionable insights."
   ]
  },
  {
   "cell_type": "markdown",
   "metadata": {
    "id": "PmUzvNEYi9rl"
   },
   "source": [
    "**Predict Function**\n",
    "\n",
    "The predict function stands as the conductor, orchestrating the entire predictive process from start to finish. It begins by loading the trained model, a testament to the project's foresight in preserving and utilizing the accumulated wisdom encapsulated within the model's parameters."
   ]
  },
  {
   "cell_type": "code",
   "execution_count": null,
   "metadata": {
    "id": "ny9tjabpjJ4q"
   },
   "outputs": [],
   "source": [
    "def predict():\n",
    "  \"\"\"\n",
    "  Main function for predicting snow water equivalent (SWE).\n",
    "  Returns: None\n",
    "  \"\"\""
   ]
  },
  {
   "cell_type": "markdown",
   "metadata": {
    "id": "d5DBPYh8jhDx"
   },
   "source": [
    "Following model loading, the function navigates the data landscape, loading new data for prediction and meticulously preprocessing it to align with the model's requirements. This step is critical, as it transforms raw data into a format that the model can interpret, ensuring the accuracy and relevance of the predictions."
   ]
  },
  {
   "cell_type": "markdown",
   "metadata": {
    "id": "slezgjgmjY6-"
   },
   "source": [
    "**Delivering the Prediction**\n",
    "\n",
    "In its final act, the predict function executes predict_swe, merges the predictions with the original data, and saves the enriched dataset. The choice of a dynamically generated filename for saving predictions demonstrates an understanding of operational requirements, ensuring that each prediction cycle is uniquely identifiable.\n",
    "\n",
    "![image.png](data:image/png;base64,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)"
   ]
  },
  {
   "cell_type": "markdown",
   "metadata": {
    "id": "7kYpJsr3jWJx"
   },
   "source": [
    "\n",
    "\n",
    "---\n",
    "\n",
    "\n",
    "\n",
    "\n",
    "\n",
    "---\n",
    "\n",
    "\n"
   ]
  },
  {
   "cell_type": "markdown",
   "metadata": {
    "id": "u61bKY8mj0eE"
   },
   "source": [
    "# Results"
   ]
  },
  {
   "cell_type": "markdown",
   "metadata": {
    "id": "oRHveVzRj91l"
   },
   "source": [
    "This is the whole process of how the predictions are converted into Images."
   ]
  },
  {
   "cell_type": "markdown",
   "metadata": {
    "id": "tHsM6EIRlQdQ"
   },
   "source": [
    "**Convert_result_to_image:**\n",
    "\n",
    "**convert_csvs_to_images_simple:** This Is the function that takes the raw data and converts them into Geographical images.\n",
    "\n",
    "**Data Loading:** Begins by ingesting the CSV containing SWE predictions, ensuring every data point is primed for visualization. Custom Colormap Creation: Employs a custom colormap, meticulously crafted to represent various ranges of SWE, providing an intuitive visual understanding of snow coverage. Geospatial Plotting: Utilizes the geographical coordinates within the data to accurately place each prediction on the map, ensuring a realistic representation of SWE distribution.\n",
    "\n",
    "**Merge_data:** The merge_data function plays a crucial role in combining the predicted SWE values with their corresponding geographical markers. Conditional Adjustments: Refines the predicted values based on specific criteria, ensuring the visual representation aligns with realistic expectations of SWE.\n",
    "\n",
    "**Spatial Accuracy:** Aligns predictions with their exact geographical locations, ensuring that the visual output is as informative as it is accurate."
   ]
  },
  {
   "cell_type": "markdown",
   "metadata": {
    "id": "7QOdrzg6oLNh"
   },
   "source": [
    "**Custom Colormap:** A list named colors defines the color scheme for the colormap, using RGB tuples for each color.These colors are intended to represent different levels of SWE, from low to high(light gray to dark red).\n",
    "\n",
    "**Geographical Boundaries:** lon_min, lon_max, lat_min, and lat_max define the geographical area of interest by specifying the minimum and maximum longitudes and latitudes. This setting targets the visualization and analysis efforts to the Western United States."
   ]
  },
  {
   "cell_type": "code",
   "execution_count": null,
   "metadata": {
    "id": "qMeBEobUoJcW"
   },
   "outputs": [],
   "source": [
    "colors = [\n",
    "    (0.8627, 0.8627, 0.8627),  # #DCDCDC - 0 - 1\n",
    "    (0.8627, 1.0000, 1.0000),  # #DCFFFF - 1 - 2\n",
    "    (0.6000, 1.0000, 1.0000),  # #99FFFF - 2 - 4\n",
    "    (0.5569, 0.8235, 1.0000),  # #8ED2FF - 4 - 6\n",
    "    (0.4509, 0.6196, 0.8745),  # #739EDF - 6 - 8\n",
    "    (0.4157, 0.4706, 1.0000),  # #6A78FF - 8 - 10\n",
    "    (0.4235, 0.2784, 1.0000),  # #6C47FF - 10 - 12\n",
    "    (0.5529, 0.0980, 1.0000),  # #8D19FF - 12 - 14\n",
    "    (0.7333, 0.0000, 0.9176),  # #BB00EA - 14 - 16\n",
    "    (0.8392, 0.0000, 0.7490),  # #D600BF - 16 - 18\n",
    "    (0.7569, 0.0039, 0.4549),  # #C10074 - 18 - 20\n",
    "    (0.6784, 0.0000, 0.1961),  # #AD0032 - 20 - 30\n",
    "    (0.5020, 0.0000, 0.0000)   # #800000 - > 30\n",
    "]\n",
    "cmap_name = 'custom_snow_colormap'\n",
    "custom_cmap = mcolors.ListedColormap(colors)\n",
    "\n",
    "lon_min, lon_max = -125, -100\n",
    "lat_min, lat_max = 25, 49.5\n",
    "\n",
    "# Define value ranges for color mapping\n",
    "fixed_value_ranges = [1, 2, 4, 6, 8, 10, 12, 14, 16, 18, 20, 30]\n"
   ]
  },
  {
   "cell_type": "markdown",
   "metadata": {
    "id": "-gFem_1DlsPd"
   },
   "source": [
    "**Convert_csv_to_geotiff:** This function mainly helps in converting images to geographically accurate maps.\n",
    "\n",
    "**Rasterization:** Transforms the CSV data into a raster format, suitable for creating detailed geospatial maps.\n",
    "\n",
    "**Resolution and Coverage:** Carefully defines the resolution and geographical extent of the output map, ensuring that it captures the full scope of the predictions.\n",
    "\n",
    "**Geospatial Alignment:** Utilizes rasterio and geopandas libraries to ensure that each pixel in the output map accurately represents the predicted SWE values at specific geographical coordinates."
   ]
  },
  {
   "cell_type": "markdown",
   "metadata": {
    "id": "fMErFn7ul35G"
   },
   "source": [
    "**Deploy_images_to_website:**\n",
    "This is the process that helps in Deploying the visual insights\n",
    "\n",
    "**copy_files_to_right_folder** --\n",
    "\n",
    "Function: Bridging Computational Outputs with Public Access At the heart of our deployment strategy lies the copy_files_to_right_folder function.\n",
    "This function acts as the bridge, transferring the visual and data outputs of SnowCast from the secure confines of its computational environment to a publicly accessible web directory.\n",
    "\n",
    "Here's how it achieves this pivotal role:\n",
    "\n",
    "\n",
    "*   Folder Synchronization: Utilizing distutils.dir_util.copy_tree, it ensures that all visual comparisons and predictions are mirrored from the SnowCast workspace to the web server's plotting directory, maintaining up-to-date access for users worldwide.\n",
    "*   Selective Deployment: Through meticulous directory traversal, it distinguishes between .png visualizations and .tif geospatial files, ensuring each file type is deployed to its rightful place for optimal public utility.\n",
    "\n",
    "\n",
    "\n",
    "\n"
   ]
  },
  {
   "cell_type": "markdown",
   "metadata": {
    "id": "gwC4XJxHkClU"
   },
   "source": [
    "\n",
    "\n",
    "\n",
    "\n",
    "\n",
    "\n",
    "**create_mapserver_map_config: Crafts interactive Maps**\n",
    "\n",
    "The magic of SnowCast is not just in its predictions but in how these predictions are presented. The create_mapserver_map_config function crafts a MapServer configuration for each GeoTIFF prediction file, transforming static data into interactive, exploratory maps.\n",
    "\n",
    "\n",
    "*   **Dynamic Configuration:** By generating a .map file for each prediction, this function lays the groundwork for interactive map services, allowing users to explore SWE predictions across different regions and times.\n",
    "*   **Intuitive Visualization:** The custom MapServer configuration leverages the power of geographical information systems (GIS) to provide an intuitive, visual representation of complex SWE data, making it accessible to experts and laypeople alike.\n",
    "\n",
    "\n",
    "\n",
    "\n",
    "\n",
    "\n"
   ]
  },
  {
   "cell_type": "markdown",
   "metadata": {
    "id": "6V64pCx4mT1b"
   },
   "source": [
    "**refresh_available_date_list: Refreshing the Forecast**\n",
    "\n",
    "The refresh_available_date_list function ensures that the SnowCast portal remains current, reflecting the latest predictions and analyses. By dynamically updating the available date list with new predictions, it guarantees that users have access to the most recent insights.\n",
    "\n",
    "\n",
    "*   Data Frame Dynamics: This function creates a pandas DataFrame to catalog the available predictions, linking each date with its corresponding visualization and data file, thereby ensuring the portal's content is both comprehensive and current.\n",
    "*   Seamless Integration: The updated date list is saved as a CSV file, seamlessly integrating with the web portal's infrastructure to refresh the interactive calendar, guiding users to the latest SWE predictions.\n",
    "\n",
    "\n",
    "\n",
    "\n"
   ]
  }
 ],
 "metadata": {
  "colab": {
   "provenance": []
  },
  "kernelspec": {
   "display_name": "Python 3 (ipykernel)",
   "language": "python",
   "name": "python3"
  },
  "language_info": {
   "codemirror_mode": {
    "name": "ipython",
    "version": 3
   },
   "file_extension": ".py",
   "mimetype": "text/x-python",
   "name": "python",
   "nbconvert_exporter": "python",
   "pygments_lexer": "ipython3",
   "version": "3.11.5"
  }
 },
 "nbformat": 4,
 "nbformat_minor": 1
}
